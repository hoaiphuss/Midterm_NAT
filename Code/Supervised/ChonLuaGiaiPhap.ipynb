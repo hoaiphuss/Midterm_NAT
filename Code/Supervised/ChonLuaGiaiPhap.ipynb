{
 "cells": [
  {
   "cell_type": "markdown",
   "id": "3edc8292",
   "metadata": {},
   "source": [
    "🎯 1. K-fold Cross Validation là gì?\n",
    "\n",
    "K-fold Cross Validation (CV) là kỹ thuật đánh giá độ chính xác của mô hình bằng cách chia dữ liệu thành K phần (folds) rồi lặp lại quá trình huấn luyện – kiểm tra K lần.\n",
    "\n",
    "👉 Mỗi lần:\n",
    "\n",
    "Lấy (K−1) phần để train mô hình.\n",
    "\n",
    "Lấy 1 phần còn lại để test.\n",
    "\n",
    "Sau đó, tính trung bình kết quả Accuracy/F1... của K lần để ra đánh giá cuối cùng.\n",
    "\n",
    "💡 2. Mục đích của K-Fold CV\n",
    "\n",
    "| Mục đích                                  | Ý nghĩa                                                                        |\n",
    "| ----------------------------------------- | ------------------------------------------------------------------------------ |\n",
    "| 🔁 **Đánh giá mô hình ổn định hơn**       | Giảm ảnh hưởng của việc chia train/test ngẫu nhiên (tránh may rủi).            |\n",
    "| 📉 **Phát hiện overfitting**              | Nếu accuracy cao trên train nhưng thấp trên nhiều fold → mô hình bị học vẹt.   |\n",
    "| ⚖️ **So sánh công bằng giữa các mô hình** | Khi so KNN, Decision Tree, SVM... dùng cùng 1 cơ chế chia dữ liệu để đánh giá. |\n",
    "\n",
    "⚠️ 3. Nếu KHÔNG dùng K-fold Cross Validation thì sao?\n",
    "\n",
    "Nếu bạn chỉ chia 1 lần train/test (ví dụ 80/20) rồi đánh giá bằng accuracy_score(y_test, y_pred) thì:\n",
    "\n",
    "✅ Nhanh hơn, ít tốn thời gian tính toán.\n",
    "\n",
    "❌ Kết quả dễ bị sai lệch — vì phụ thuộc vào cách chia dữ liệu duy nhất.\n",
    "→ Nếu lần chia đó tình cờ có nhiều mẫu “dễ đoán” ở tập test, accuracy sẽ cao giả tạo.\n",
    "\n",
    "👉 Nghĩa là mô hình có thể không thật sự tốt, chỉ là gặp may khi chia dữ liệu.\n",
    "\n",
    "🧠 4. Ví dụ dễ hiểu\n",
    "\n",
    "Giả sử bạn có 100 mẫu dữ liệu, dùng 5-fold cross validation:\n",
    "\n",
    "Lần 1: Train trên 80 mẫu (fold 1–4), test trên fold 5.\n",
    "\n",
    "Lần 2: Train trên fold 1–3,5; test trên fold 4.\n",
    "\n",
    "…\n",
    "\n",
    "Lần 5: Train trên fold 2–5; test trên fold 1.\n",
    "\n",
    "```\n",
    "Accuracy lần 1: 0.92\n",
    "Accuracy lần 2: 0.95\n",
    "Accuracy lần 3: 0.91\n",
    "Accuracy lần 4: 0.93\n",
    "Accuracy lần 5: 0.94\n",
    "Trung bình = 0.93 ± 0.015\n",
    "```\n",
    "\n",
    "→ Kết quả ổn định hơn nhiều so với chỉ chia 1 lần."
   ]
  },
  {
   "cell_type": "code",
   "execution_count": 2,
   "id": "ac251768",
   "metadata": {},
   "outputs": [],
   "source": [
    "import pandas as pd\n",
    "from sklearn.model_selection import train_test_split, cross_val_score, KFold\n",
    "from sklearn.metrics import accuracy_score\n",
    "from sklearn.neighbors import KNeighborsClassifier\n",
    "from sklearn.tree import DecisionTreeClassifier\n",
    "from sklearn.svm import SVC\n"
   ]
  },
  {
   "cell_type": "code",
   "execution_count": 3,
   "id": "64e5e9d0",
   "metadata": {},
   "outputs": [],
   "source": [
    "# Đọc dữ liệu\n",
    "data = pd.read_excel('../../Data/Iris.xls')\n",
    "\n",
    "# Tách thuộc tính (X) và nhãn (y)\n",
    "X = data.drop(['iris'], axis=1)\n",
    "y = data['iris']\n",
    "\n",
    "# Chia dữ liệu thành train/test (80/20)\n",
    "X_train, X_test, y_train, y_test = train_test_split(X, y, test_size=0.2, random_state=1)"
   ]
  },
  {
   "cell_type": "code",
   "execution_count": 4,
   "id": "03d32ce4",
   "metadata": {},
   "outputs": [],
   "source": [
    "k = int(pow(X_train.shape[0], 1/2) / 2)\n",
    "\n",
    "models = [\n",
    "    ('KNN', KNeighborsClassifier(n_neighbors=k)),\n",
    "    ('DecisionTree', DecisionTreeClassifier(random_state=1)),\n",
    "    ('SVM', SVC(kernel='rbf', gamma='scale'))\n",
    "]"
   ]
  },
  {
   "cell_type": "code",
   "execution_count": 5,
   "id": "7c344510",
   "metadata": {},
   "outputs": [
    {
     "name": "stdout",
     "output_type": "stream",
     "text": [
      "=== 🔍 ĐÁNH GIÁ MÔ HÌNH BẰNG 10-FOLD CROSS VALIDATION ===\n",
      "\n",
      "KNN             → Accuracy trung bình = 96.00% | Độ lệch chuẩn = 4.42%\n",
      "DecisionTree    → Accuracy trung bình = 95.33% | Độ lệch chuẩn = 4.27%\n",
      "SVM             → Accuracy trung bình = 96.00% | Độ lệch chuẩn = 3.27%\n"
     ]
    }
   ],
   "source": [
    "kfold = KFold(n_splits=10, shuffle=True, random_state=1)\n",
    "\n",
    "print(\"=== 🔍 ĐÁNH GIÁ MÔ HÌNH BẰNG 10-FOLD CROSS VALIDATION ===\\n\")\n",
    "results = {}\n",
    "\n",
    "for name, model in models:\n",
    "    scores = cross_val_score(model, X, y, scoring='accuracy', cv=kfold)\n",
    "    mean_acc = scores.mean()\n",
    "    std_acc = scores.std()\n",
    "    results[name] = mean_acc\n",
    "    print(f\"{name:15s} → Accuracy trung bình = {mean_acc*100:.2f}% | Độ lệch chuẩn = {std_acc*100:.2f}%\")\n"
   ]
  },
  {
   "cell_type": "code",
   "execution_count": 6,
   "id": "7a50dcf0",
   "metadata": {},
   "outputs": [
    {
     "name": "stdout",
     "output_type": "stream",
     "text": [
      "\n",
      "🏆 Mô hình tốt nhất: KNN (Accuracy = 96.00%)\n"
     ]
    }
   ],
   "source": [
    "best_model = max(results, key=results.get)\n",
    "print(f\"\\n🏆 Mô hình tốt nhất: {best_model} (Accuracy = {results[best_model]*100:.2f}%)\")"
   ]
  },
  {
   "cell_type": "markdown",
   "id": "267b4a50",
   "metadata": {},
   "source": [
    "5. Giải thích lựa chọn\n",
    "\n",
    "KNN: Đơn giản, hiệu quả cao với dữ liệu nhỏ, nhưng tốn thời gian khi dự đoán (vì phải tính khoảng cách).\n",
    "\n",
    "Decision Tree: Dễ hiểu, trực quan, nhưng có thể bị overfitting nếu không giới hạn độ sâu.\n",
    "\n",
    "SVM: Hoạt động tốt với dữ liệu tuyến tính hoặc có thể tách tuyến tính được, hiệu quả cao nhất trong Iris."
   ]
  }
 ],
 "metadata": {
  "kernelspec": {
   "display_name": ".venv",
   "language": "python",
   "name": "python3"
  },
  "language_info": {
   "codemirror_mode": {
    "name": "ipython",
    "version": 3
   },
   "file_extension": ".py",
   "mimetype": "text/x-python",
   "name": "python",
   "nbconvert_exporter": "python",
   "pygments_lexer": "ipython3",
   "version": "3.14.0"
  }
 },
 "nbformat": 4,
 "nbformat_minor": 5
}
